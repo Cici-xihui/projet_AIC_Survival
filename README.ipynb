{
 "cells": [
  {
   "cell_type": "markdown",
   "metadata": {},
   "source": [
    "<div style=\"background:#FFFFAA\">\n",
    "<img src=\"nhanes.jpg\", width=150, border=20>\n",
    "<h1>Survival Starting Kit </h1>\n",
    "</div>"
   ]
  },
  {
   "cell_type": "markdown",
   "metadata": {},
   "source": [
    "<div style=\"background:#FFFFAA\">\n",
    "    <h2>Introduction </h2>\n",
    "    <p>\n",
    "    <span style=\"color:red\"> Our goal of survival analysis is to predict the expected duration before death for living being. </span>\n",
    "     <br>\n",
    "In this challenge we try to tackle a survival analysis problem from a machine learning perspective. The goal of survival analysis is to predict the expected time before a given event occur. In our case we try to estimate the survival time of patients given some data from the NHANES dataset. \n",
    " <br>\n",
    "    <span style=\"color:red\"> Keep the next block. </span>\n",
    "</div>"
   ]
  },
  {
   "cell_type": "code",
   "execution_count": 1,
   "metadata": {
    "collapsed": true
   },
   "outputs": [],
   "source": [
    "model_dir = 'sample_code_submission/'                        # Change the model to a better one once you have one!\n",
    "#model_dir = '../FILES/pretty_good_sample_code_submission/'\n",
    "result_dir = 'sample_result_submission/' \n",
    "problem_dir = 'ingestion_program/'  \n",
    "score_dir = 'scoring_program/'\n",
    "from sys import path; path.append(model_dir); path.append(problem_dir); path.append(score_dir); \n",
    "%matplotlib inline\n",
    "# Uncomment the next lines to auto-reload libraries (this causes some problem with pickles in Python 3)\n",
    "%load_ext autoreload\n",
    "%autoreload 2\n",
    "import seaborn as sns; sns.set()\n",
    "import warnings\n",
    "warnings.simplefilter(action='ignore', category=FutureWarning)"
   ]
  },
  {
   "cell_type": "markdown",
   "metadata": {},
   "source": [
    "<div style=\"background:#FFFFAA\">\n",
    "    <h1> Step 1: Exploratory data analysis </h1>\n",
    "<p>\n",
    "We provide sample_data with the starting kit, but to prepare your submission, you must fetch the public_data from the challenge website and point to it.\n",
    "    <br>\n",
    "    <span style=\"color:red\"> Just change the data name in the block below. In the rest of the section, replace the sample plots by anything you want. </span>\n",
    "</div>"
   ]
  },
  {
   "cell_type": "code",
   "execution_count": 2,
   "metadata": {},
   "outputs": [
    {
     "name": "stdout",
     "output_type": "stream",
     "text": [
      "\u001b[31mMortality_feat.name\u001b[m\u001b[m      \u001b[31mMortality_test.data\u001b[m\u001b[m      \u001b[31mMortality_train.solution\u001b[m\u001b[m\r\n",
      "\u001b[31mMortality_label.name\u001b[m\u001b[m     \u001b[31mMortality_test.solution\u001b[m\u001b[m  \u001b[31mMortality_valid.data\u001b[m\u001b[m\r\n",
      "\u001b[31mMortality_public.info\u001b[m\u001b[m    \u001b[31mMortality_train.data\u001b[m\u001b[m     \u001b[31mMortality_valid.solution\u001b[m\u001b[m\r\n"
     ]
    }
   ],
   "source": [
    "data_dir = 'sample_data'              # Change this to the directory where you put the input data\n",
    "data_name = 'Mortality'\n",
    "!ls $data_dir*"
   ]
  },
  {
   "cell_type": "markdown",
   "metadata": {},
   "source": [
    "For convenience, we load the data as a \"pandas\" data frame, so we can use \"pandas\" and \"seaborn\" built in functions to explore the data."
   ]
  },
  {
   "cell_type": "code",
   "execution_count": 3,
   "metadata": {},
   "outputs": [
    {
     "name": "stdout",
     "output_type": "stream",
     "text": [
      "Reading sample_data/Mortality_train from AutoML format\n",
      "Number of examples = 19297\n",
      "Number of features = 11\n"
     ]
    }
   ],
   "source": [
    "from data_io import read_as_df\n",
    "data = read_as_df(data_dir  + '/' + data_name)                # The data are loaded as a Pandas Data Frame"
   ]
  },
  {
   "cell_type": "code",
   "execution_count": 4,
   "metadata": {},
   "outputs": [
    {
     "data": {
      "text/html": [
       "<div>\n",
       "<style>\n",
       "    .dataframe thead tr:only-child th {\n",
       "        text-align: right;\n",
       "    }\n",
       "\n",
       "    .dataframe thead th {\n",
       "        text-align: left;\n",
       "    }\n",
       "\n",
       "    .dataframe tbody tr th {\n",
       "        vertical-align: top;\n",
       "    }\n",
       "</style>\n",
       "<table border=\"1\" class=\"dataframe\">\n",
       "  <thead>\n",
       "    <tr style=\"text-align: right;\">\n",
       "      <th></th>\n",
       "      <th>mortstat</th>\n",
       "      <th>age</th>\n",
       "      <th>sbp</th>\n",
       "      <th>dbp</th>\n",
       "      <th>A1c</th>\n",
       "      <th>bmi</th>\n",
       "      <th>gender_male</th>\n",
       "      <th>ethnicity_NonHispanicBlack</th>\n",
       "      <th>ethnicity_NonHispanicWhite</th>\n",
       "      <th>ethnicity_Other</th>\n",
       "      <th>ethnicity_OtherHispanic</th>\n",
       "      <th>target</th>\n",
       "    </tr>\n",
       "  </thead>\n",
       "  <tbody>\n",
       "    <tr>\n",
       "      <th>0</th>\n",
       "      <td>0.0</td>\n",
       "      <td>50</td>\n",
       "      <td>124.666667</td>\n",
       "      <td>70.000000</td>\n",
       "      <td>5.3</td>\n",
       "      <td>30.74</td>\n",
       "      <td>0</td>\n",
       "      <td>0</td>\n",
       "      <td>0</td>\n",
       "      <td>0</td>\n",
       "      <td>1</td>\n",
       "      <td>132</td>\n",
       "    </tr>\n",
       "    <tr>\n",
       "      <th>1</th>\n",
       "      <td>0.0</td>\n",
       "      <td>49</td>\n",
       "      <td>119.333333</td>\n",
       "      <td>72.666667</td>\n",
       "      <td>5.1</td>\n",
       "      <td>23.80</td>\n",
       "      <td>1</td>\n",
       "      <td>0</td>\n",
       "      <td>1</td>\n",
       "      <td>0</td>\n",
       "      <td>0</td>\n",
       "      <td>51</td>\n",
       "    </tr>\n",
       "    <tr>\n",
       "      <th>2</th>\n",
       "      <td>0.0</td>\n",
       "      <td>44</td>\n",
       "      <td>134.666667</td>\n",
       "      <td>78.666667</td>\n",
       "      <td>5.9</td>\n",
       "      <td>27.65</td>\n",
       "      <td>1</td>\n",
       "      <td>0</td>\n",
       "      <td>1</td>\n",
       "      <td>0</td>\n",
       "      <td>0</td>\n",
       "      <td>53</td>\n",
       "    </tr>\n",
       "    <tr>\n",
       "      <th>3</th>\n",
       "      <td>0.0</td>\n",
       "      <td>50</td>\n",
       "      <td>119.000000</td>\n",
       "      <td>87.000000</td>\n",
       "      <td>4.9</td>\n",
       "      <td>24.77</td>\n",
       "      <td>0</td>\n",
       "      <td>0</td>\n",
       "      <td>1</td>\n",
       "      <td>0</td>\n",
       "      <td>0</td>\n",
       "      <td>75</td>\n",
       "    </tr>\n",
       "    <tr>\n",
       "      <th>4</th>\n",
       "      <td>0.0</td>\n",
       "      <td>32</td>\n",
       "      <td>104.666667</td>\n",
       "      <td>72.000000</td>\n",
       "      <td>4.8</td>\n",
       "      <td>26.45</td>\n",
       "      <td>1</td>\n",
       "      <td>0</td>\n",
       "      <td>1</td>\n",
       "      <td>0</td>\n",
       "      <td>0</td>\n",
       "      <td>51</td>\n",
       "    </tr>\n",
       "  </tbody>\n",
       "</table>\n",
       "</div>"
      ],
      "text/plain": [
       "   mortstat  age         sbp        dbp  A1c    bmi  gender_male  \\\n",
       "0       0.0   50  124.666667  70.000000  5.3  30.74            0   \n",
       "1       0.0   49  119.333333  72.666667  5.1  23.80            1   \n",
       "2       0.0   44  134.666667  78.666667  5.9  27.65            1   \n",
       "3       0.0   50  119.000000  87.000000  4.9  24.77            0   \n",
       "4       0.0   32  104.666667  72.000000  4.8  26.45            1   \n",
       "\n",
       "   ethnicity_NonHispanicBlack  ethnicity_NonHispanicWhite  ethnicity_Other  \\\n",
       "0                           0                           0                0   \n",
       "1                           0                           1                0   \n",
       "2                           0                           1                0   \n",
       "3                           0                           1                0   \n",
       "4                           0                           1                0   \n",
       "\n",
       "   ethnicity_OtherHispanic  target  \n",
       "0                        1     132  \n",
       "1                        0      51  \n",
       "2                        0      53  \n",
       "3                        0      75  \n",
       "4                        0      51  "
      ]
     },
     "execution_count": 4,
     "metadata": {},
     "output_type": "execute_result"
    }
   ],
   "source": [
    "data.head()"
   ]
  },
  {
   "cell_type": "markdown",
   "metadata": {},
   "source": [
    "Target = la durée de vie"
   ]
  },
  {
   "cell_type": "code",
   "execution_count": 5,
   "metadata": {},
   "outputs": [
    {
     "data": {
      "text/html": [
       "<div>\n",
       "<style>\n",
       "    .dataframe thead tr:only-child th {\n",
       "        text-align: right;\n",
       "    }\n",
       "\n",
       "    .dataframe thead th {\n",
       "        text-align: left;\n",
       "    }\n",
       "\n",
       "    .dataframe tbody tr th {\n",
       "        vertical-align: top;\n",
       "    }\n",
       "</style>\n",
       "<table border=\"1\" class=\"dataframe\">\n",
       "  <thead>\n",
       "    <tr style=\"text-align: right;\">\n",
       "      <th></th>\n",
       "      <th>mortstat</th>\n",
       "      <th>age</th>\n",
       "      <th>sbp</th>\n",
       "      <th>dbp</th>\n",
       "      <th>A1c</th>\n",
       "      <th>bmi</th>\n",
       "      <th>gender_male</th>\n",
       "      <th>ethnicity_NonHispanicBlack</th>\n",
       "      <th>ethnicity_NonHispanicWhite</th>\n",
       "      <th>ethnicity_Other</th>\n",
       "      <th>ethnicity_OtherHispanic</th>\n",
       "      <th>target</th>\n",
       "    </tr>\n",
       "  </thead>\n",
       "  <tbody>\n",
       "    <tr>\n",
       "      <th>count</th>\n",
       "      <td>19297.000000</td>\n",
       "      <td>19297.000000</td>\n",
       "      <td>19297.000000</td>\n",
       "      <td>19297.000000</td>\n",
       "      <td>19297.000000</td>\n",
       "      <td>19297.000000</td>\n",
       "      <td>19297.000000</td>\n",
       "      <td>19297.000000</td>\n",
       "      <td>19297.000000</td>\n",
       "      <td>19297.000000</td>\n",
       "      <td>19297.000000</td>\n",
       "      <td>19297.000000</td>\n",
       "    </tr>\n",
       "    <tr>\n",
       "      <th>mean</th>\n",
       "      <td>0.097580</td>\n",
       "      <td>46.531793</td>\n",
       "      <td>124.198995</td>\n",
       "      <td>69.418321</td>\n",
       "      <td>5.569762</td>\n",
       "      <td>28.192723</td>\n",
       "      <td>0.483702</td>\n",
       "      <td>0.201275</td>\n",
       "      <td>0.479194</td>\n",
       "      <td>0.037830</td>\n",
       "      <td>0.057315</td>\n",
       "      <td>89.614759</td>\n",
       "    </tr>\n",
       "    <tr>\n",
       "      <th>std</th>\n",
       "      <td>0.296754</td>\n",
       "      <td>19.853825</td>\n",
       "      <td>20.062107</td>\n",
       "      <td>13.795536</td>\n",
       "      <td>1.020326</td>\n",
       "      <td>6.261523</td>\n",
       "      <td>0.499747</td>\n",
       "      <td>0.400963</td>\n",
       "      <td>0.499580</td>\n",
       "      <td>0.190789</td>\n",
       "      <td>0.232449</td>\n",
       "      <td>35.847164</td>\n",
       "    </tr>\n",
       "    <tr>\n",
       "      <th>min</th>\n",
       "      <td>0.000000</td>\n",
       "      <td>18.000000</td>\n",
       "      <td>72.666667</td>\n",
       "      <td>0.000000</td>\n",
       "      <td>2.000000</td>\n",
       "      <td>12.040000</td>\n",
       "      <td>0.000000</td>\n",
       "      <td>0.000000</td>\n",
       "      <td>0.000000</td>\n",
       "      <td>0.000000</td>\n",
       "      <td>0.000000</td>\n",
       "      <td>1.000000</td>\n",
       "    </tr>\n",
       "    <tr>\n",
       "      <th>25%</th>\n",
       "      <td>0.000000</td>\n",
       "      <td>29.000000</td>\n",
       "      <td>110.666667</td>\n",
       "      <td>62.000000</td>\n",
       "      <td>5.100000</td>\n",
       "      <td>23.820000</td>\n",
       "      <td>0.000000</td>\n",
       "      <td>0.000000</td>\n",
       "      <td>0.000000</td>\n",
       "      <td>0.000000</td>\n",
       "      <td>0.000000</td>\n",
       "      <td>58.000000</td>\n",
       "    </tr>\n",
       "    <tr>\n",
       "      <th>50%</th>\n",
       "      <td>0.000000</td>\n",
       "      <td>45.000000</td>\n",
       "      <td>120.000000</td>\n",
       "      <td>70.000000</td>\n",
       "      <td>5.400000</td>\n",
       "      <td>27.260000</td>\n",
       "      <td>0.000000</td>\n",
       "      <td>0.000000</td>\n",
       "      <td>0.000000</td>\n",
       "      <td>0.000000</td>\n",
       "      <td>0.000000</td>\n",
       "      <td>89.000000</td>\n",
       "    </tr>\n",
       "    <tr>\n",
       "      <th>75%</th>\n",
       "      <td>0.000000</td>\n",
       "      <td>63.000000</td>\n",
       "      <td>134.000000</td>\n",
       "      <td>77.333333</td>\n",
       "      <td>5.700000</td>\n",
       "      <td>31.470000</td>\n",
       "      <td>1.000000</td>\n",
       "      <td>0.000000</td>\n",
       "      <td>1.000000</td>\n",
       "      <td>0.000000</td>\n",
       "      <td>0.000000</td>\n",
       "      <td>121.000000</td>\n",
       "    </tr>\n",
       "    <tr>\n",
       "      <th>max</th>\n",
       "      <td>1.000000</td>\n",
       "      <td>85.000000</td>\n",
       "      <td>270.000000</td>\n",
       "      <td>124.000000</td>\n",
       "      <td>18.800000</td>\n",
       "      <td>76.070000</td>\n",
       "      <td>1.000000</td>\n",
       "      <td>1.000000</td>\n",
       "      <td>1.000000</td>\n",
       "      <td>1.000000</td>\n",
       "      <td>1.000000</td>\n",
       "      <td>153.000000</td>\n",
       "    </tr>\n",
       "  </tbody>\n",
       "</table>\n",
       "</div>"
      ],
      "text/plain": [
       "           mortstat           age           sbp           dbp           A1c  \\\n",
       "count  19297.000000  19297.000000  19297.000000  19297.000000  19297.000000   \n",
       "mean       0.097580     46.531793    124.198995     69.418321      5.569762   \n",
       "std        0.296754     19.853825     20.062107     13.795536      1.020326   \n",
       "min        0.000000     18.000000     72.666667      0.000000      2.000000   \n",
       "25%        0.000000     29.000000    110.666667     62.000000      5.100000   \n",
       "50%        0.000000     45.000000    120.000000     70.000000      5.400000   \n",
       "75%        0.000000     63.000000    134.000000     77.333333      5.700000   \n",
       "max        1.000000     85.000000    270.000000    124.000000     18.800000   \n",
       "\n",
       "                bmi   gender_male  ethnicity_NonHispanicBlack  \\\n",
       "count  19297.000000  19297.000000                19297.000000   \n",
       "mean      28.192723      0.483702                    0.201275   \n",
       "std        6.261523      0.499747                    0.400963   \n",
       "min       12.040000      0.000000                    0.000000   \n",
       "25%       23.820000      0.000000                    0.000000   \n",
       "50%       27.260000      0.000000                    0.000000   \n",
       "75%       31.470000      1.000000                    0.000000   \n",
       "max       76.070000      1.000000                    1.000000   \n",
       "\n",
       "       ethnicity_NonHispanicWhite  ethnicity_Other  ethnicity_OtherHispanic  \\\n",
       "count                19297.000000     19297.000000             19297.000000   \n",
       "mean                     0.479194         0.037830                 0.057315   \n",
       "std                      0.499580         0.190789                 0.232449   \n",
       "min                      0.000000         0.000000                 0.000000   \n",
       "25%                      0.000000         0.000000                 0.000000   \n",
       "50%                      0.000000         0.000000                 0.000000   \n",
       "75%                      1.000000         0.000000                 0.000000   \n",
       "max                      1.000000         1.000000                 1.000000   \n",
       "\n",
       "             target  \n",
       "count  19297.000000  \n",
       "mean      89.614759  \n",
       "std       35.847164  \n",
       "min        1.000000  \n",
       "25%       58.000000  \n",
       "50%       89.000000  \n",
       "75%      121.000000  \n",
       "max      153.000000  "
      ]
     },
     "execution_count": 5,
     "metadata": {},
     "output_type": "execute_result"
    }
   ],
   "source": [
    "data.describe() "
   ]
  },
  {
   "cell_type": "code",
   "execution_count": 6,
   "metadata": {
    "collapsed": true
   },
   "outputs": [],
   "source": [
    "import numpy as np\n",
    "import pandas as pd\n",
    "import matplotlib.pyplot as plt\n",
    "import seaborn as sns\n",
    "\n",
    "from functools import reduce\n",
    "from lifelines import KaplanMeierFitter, CoxPHFitter\n",
    "from lifelines.utils import concordance_index\n",
    "from sklearn.model_selection import train_test_split"
   ]
  },
  {
   "cell_type": "code",
   "execution_count": 31,
   "metadata": {},
   "outputs": [
    {
     "data": {
      "image/png": "[encoded data removed]",
      "text/plain": [
       "<matplotlib.figure.Figure at 0x122abeb70>"
      ]
     },
     "metadata": {},
     "output_type": "display_data"
    }
   ],
   "source": [
    "ax=data.hist(column='target', by='mortstat', bins=100, layout=(2,1), log=True, sharex=True, sharey=True)"
   ]
  },
  {
   "cell_type": "code",
   "execution_count": 35,
   "metadata": {},
   "outputs": [
    {
     "data": {
      "image/png": "[encoded data removed]",
      "text/plain": [
       "<matplotlib.figure.Figure at 0x12a23d7b8>"
      ]
     },
     "metadata": {},
     "output_type": "display_data"
    }
   ],
   "source": [
    "# Mortality by target \n",
    "ax = data.hist(column='target', by=['mortstat'], bins=50, sharex=True)"
   ]
  },
  {
   "cell_type": "code",
   "execution_count": 38,
   "metadata": {},
   "outputs": [
    {
     "data": {
      "image/png": "[encoded data removed]",
      "text/plain": [
       "<matplotlib.figure.Figure at 0x12a0cb5c0>"
      ]
     },
     "metadata": {},
     "output_type": "display_data"
    }
   ],
   "source": [
    "# Lifetime distribution by gender \n",
    "ax = data.hist(column='target', by=['gender_male','mortstat'], bins=50\n",
    "             ,sharex=True, figsize=(10,8))"
   ]
  },
  {
   "cell_type": "markdown",
   "metadata": {},
   "source": [
    "## Example of regression "
   ]
  },
  {
   "cell_type": "markdown",
   "metadata": {},
   "source": [
    "Split into training and validation sets"
   ]
  },
  {
   "cell_type": "code",
   "execution_count": 7,
   "metadata": {
    "collapsed": true
   },
   "outputs": [],
   "source": [
    "cox_tr, cox_va = train_test_split(data, test_size=0.2, random_state=15125)"
   ]
  },
  {
   "cell_type": "markdown",
   "metadata": {},
   "source": [
    "How many deaths did each dataset have?"
   ]
  },
  {
   "cell_type": "code",
   "execution_count": 8,
   "metadata": {},
   "outputs": [
    {
     "data": {
      "text/html": [
       "<div>\n",
       "<style>\n",
       "    .dataframe thead tr:only-child th {\n",
       "        text-align: right;\n",
       "    }\n",
       "\n",
       "    .dataframe thead th {\n",
       "        text-align: left;\n",
       "    }\n",
       "\n",
       "    .dataframe tbody tr th {\n",
       "        vertical-align: top;\n",
       "    }\n",
       "</style>\n",
       "<table border=\"1\" class=\"dataframe\">\n",
       "  <thead>\n",
       "    <tr style=\"text-align: right;\">\n",
       "      <th></th>\n",
       "      <th>training</th>\n",
       "      <th>validation</th>\n",
       "    </tr>\n",
       "  </thead>\n",
       "  <tbody>\n",
       "    <tr>\n",
       "      <th>0.0</th>\n",
       "      <td>13929</td>\n",
       "      <td>3485</td>\n",
       "    </tr>\n",
       "    <tr>\n",
       "      <th>1.0</th>\n",
       "      <td>1508</td>\n",
       "      <td>375</td>\n",
       "    </tr>\n",
       "  </tbody>\n",
       "</table>\n",
       "</div>"
      ],
      "text/plain": [
       "     training  validation\n",
       "0.0     13929        3485\n",
       "1.0      1508         375"
      ]
     },
     "execution_count": 8,
     "metadata": {},
     "output_type": "execute_result"
    }
   ],
   "source": [
    "pd.DataFrame({'training': cox_tr['mortstat'].value_counts(), 'validation': cox_va['mortstat'].value_counts()})"
   ]
  },
  {
   "cell_type": "markdown",
   "metadata": {},
   "source": [
    "What does the distribution of survival times look like for the training set?"
   ]
  },
  {
   "cell_type": "code",
   "execution_count": 9,
   "metadata": {},
   "outputs": [
    {
     "data": {
      "text/plain": [
       "<matplotlib.axes._subplots.AxesSubplot at 0x118591438>"
      ]
     },
     "execution_count": 9,
     "metadata": {},
     "output_type": "execute_result"
    },
    {
     "data": {
      "image/png": "[encoded data removed]",
      "text/plain": [
       "<matplotlib.figure.Figure at 0x118c43208>"
      ]
     },
     "metadata": {},
     "output_type": "display_data"
    }
   ],
   "source": [
    "cox_tr['target'].hist()"
   ]
  },
  {
   "cell_type": "markdown",
   "metadata": {},
   "source": [
    "Train CoxPH model"
   ]
  },
  {
   "cell_type": "code",
   "execution_count": 10,
   "metadata": {},
   "outputs": [
    {
     "name": "stdout",
     "output_type": "stream",
     "text": [
      "Iteration 1: norm_delta = 1.35160, step_size = 0.95000, ll = -13906.26470, seconds_since_start = 0.3\n",
      "Iteration 2: norm_delta = 0.42984, step_size = 0.95000, ll = -12716.05517, seconds_since_start = 0.6\n",
      "Iteration 3: norm_delta = 0.19109, step_size = 0.95000, ll = -12394.75041, seconds_since_start = 0.9\n",
      "Iteration 4: norm_delta = 0.05030, step_size = 0.95000, ll = -12351.21778, seconds_since_start = 1.3\n",
      "Iteration 5: norm_delta = 0.00520, step_size = 0.95000, ll = -12348.85979, seconds_since_start = 1.5\n",
      "Iteration 6: norm_delta = 0.00029, step_size = 0.95000, ll = -12348.83658, seconds_since_start = 1.8\n",
      "Iteration 7: norm_delta = 0.00001, step_size = 0.95000, ll = -12348.83651, seconds_since_start = 2.1\n",
      "Iteration 8: norm_delta = 0.00000, step_size = 0.95000, ll = -12348.83651, seconds_since_start = 2.4\n",
      "Convergence completed after 8 iterations.\n"
     ]
    },
    {
     "data": {
      "text/plain": [
       "<lifelines.CoxPHFitter: fitted with 15437 observations, 13929 censored>"
      ]
     },
     "execution_count": 10,
     "metadata": {},
     "output_type": "execute_result"
    }
   ],
   "source": [
    "cox = CoxPHFitter()\n",
    "cox.fit(cox_tr, duration_col='target', event_col='mortstat', show_progress=True)"
   ]
  },
  {
   "cell_type": "markdown",
   "metadata": {},
   "source": [
    "Print summary"
   ]
  },
  {
   "cell_type": "code",
   "execution_count": 11,
   "metadata": {},
   "outputs": [
    {
     "name": "stdout",
     "output_type": "stream",
     "text": [
      "n=15437, number of events=1508\n",
      "\n",
      "                              coef  exp(coef)  se(coef)       z      p  lower 0.95  upper 0.95     \n",
      "age                         0.0796     1.0828    0.0023 34.2788 0.0000      0.0750      0.0841  ***\n",
      "sbp                         0.0054     1.0054    0.0012  4.4266 0.0000      0.0030      0.0078  ***\n",
      "dbp                        -0.0061     0.9940    0.0015 -3.9911 0.0001     -0.0090     -0.0031  ***\n",
      "A1c                         0.1362     1.1460    0.0197  6.9214 0.0000      0.0977      0.1748  ***\n",
      "bmi                        -0.0129     0.9871    0.0052 -2.5019 0.0124     -0.0231     -0.0028    *\n",
      "gender_male                 0.4604     1.5847    0.0532  8.6559 0.0000      0.3561      0.5646  ***\n",
      "ethnicity_NonHispanicBlack  0.4203     1.5225    0.0913  4.6036 0.0000      0.2414      0.5993  ***\n",
      "ethnicity_NonHispanicWhite  0.2975     1.3465    0.0784  3.7932 0.0001      0.1438      0.4513  ***\n",
      "ethnicity_Other            -0.0699     0.9325    0.1984 -0.3523 0.7246     -0.4588      0.3190     \n",
      "ethnicity_OtherHispanic    -0.0075     0.9925    0.1550 -0.0486 0.9613     -0.3114      0.2963     \n",
      "---\n",
      "Signif. codes:  0 '***' 0.001 '**' 0.01 '*' 0.05 '.' 0.1 ' ' 1 \n",
      "\n",
      "Concordance = 0.863\n",
      "Likelihood ratio test = 3114.856 on 10 df, p=0.00000\n"
     ]
    }
   ],
   "source": [
    "cox.print_summary()"
   ]
  },
  {
   "cell_type": "markdown",
   "metadata": {},
   "source": [
    "Visualize feature coefficients and their significance"
   ]
  },
  {
   "cell_type": "code",
   "execution_count": 12,
   "metadata": {},
   "outputs": [
    {
     "data": {
      "text/plain": [
       "<matplotlib.axes._subplots.AxesSubplot at 0x1186407f0>"
      ]
     },
     "execution_count": 12,
     "metadata": {},
     "output_type": "execute_result"
    },
    {
     "data": {
      "image/png": "[encoded data removed]",
      "text/plain": [
       "<matplotlib.figure.Figure at 0x1186d2ef0>"
      ]
     },
     "metadata": {},
     "output_type": "display_data"
    }
   ],
   "source": [
    "cox.plot()"
   ]
  },
  {
   "cell_type": "markdown",
   "metadata": {},
   "source": [
    "We see that, given all included features, all features except `ethnicity_Other` and `ethnicity_OtherHispanic` have a significant association with mortality."
   ]
  },
  {
   "cell_type": "markdown",
   "metadata": {},
   "source": [
    "<div style=\"background:#FFFFAA\">\n",
    "<h1>Step 2: Building a predictive model</h1>\n",
    "</div>"
   ]
  },
  {
   "cell_type": "markdown",
   "metadata": {},
   "source": [
    "<div style=\"background:#FFFFAA\">\n",
    "    <h2>Loading data with DataManager</h2>\n",
    "    <p>\n",
    "We reload the data with the AutoML DataManager class because this is more convenient:\n",
    "   <br>     <span style=\"color:red\"> Keep this, it illustrates how data in AutoML formal are loaded by the ingestion program </span>\n",
    "</div>"
   ]
  },
  {
   "cell_type": "code",
   "execution_count": 13,
   "metadata": {},
   "outputs": [
    {
     "name": "stdout",
     "output_type": "stream",
     "text": [
      "Info file found : /Users/nour/Desktop/AIC/mini_projet/23/projet_AIC_Survival/sample_data/Mortality_public.info\n",
      "DataManager : Mortality\n",
      "info:\n",
      "\tusage = Continuous NHANES Mortality data\n",
      "\tname = mortality\n",
      "\ttask = regression\n",
      "\ttarget_type = Numerical\n",
      "\tfeat_type = Numerical\n",
      "\tmetric = mse_metric\n",
      "\ttime_budget = 1200\n",
      "\tfeat_num = 11\n",
      "\ttarget_num = 1\n",
      "\tlabel_num = 2\n",
      "\ttrain_num = 19297\n",
      "\tvalid_num = 2171\n",
      "\ttest_num = 2412\n",
      "\thas_categorical = 0\n",
      "\thas_missing = 0\n",
      "\tis_sparse = 0\n",
      "\tformat = dense\n",
      "data:\n",
      "\tX_train = array(19297, 11)\n",
      "\tY_train = array(19297,)\n",
      "\tX_valid = array(2413, 11)\n",
      "\tY_valid = array(2413,)\n",
      "\tX_test = array(2412, 11)\n",
      "\tY_test = array(2412,)\n",
      "feat_type:\tarray(11,)\n",
      "feat_idx:\tarray(0,)\n",
      "\n"
     ]
    }
   ],
   "source": [
    "from data_manager import DataManager\n",
    "D = DataManager(data_name, data_dir, replace_missing=True)\n",
    "print(D)"
   ]
  },
  {
   "cell_type": "markdown",
   "metadata": {},
   "source": [
    "<div style=\"background:#FFFFAA\">\n",
    "    <h2>Training a predictive model</h2>\n",
    "    <p>\n",
    "We provide an example of predictive model (for classification or regression) in the `sample_code_submission/` directory. It is a quite stupid model: it makes constant predictions. Replace it with your own model.\n",
    "    </div>"
   ]
  },
  {
   "cell_type": "code",
   "execution_count": 14,
   "metadata": {
    "collapsed": true
   },
   "outputs": [],
   "source": [
    "from data_io import write\n",
    "from model import model\n",
    "import pickle\n",
    "import numpy as np   # We recommend to use numpy arrays\n",
    "from os.path import isfile\n",
    "from sklearn.base import BaseEstimator\n",
    "\n",
    "class model (BaseEstimator):\n",
    "    def __init__(self):\n",
    "        '''\n",
    "        This constructor is supposed to initialize data members.\n",
    "        Use triple quotes for function documentation. \n",
    "        '''\n",
    "        self.num_train_samples=0\n",
    "        self.num_feat=1\n",
    "        self.num_labels=1\n",
    "        self.is_trained=False\n",
    "\n",
    "    def fit(self, X, y):\n",
    "        '''\n",
    "        This function should train the model parameters.\n",
    "        Here we do nothing in this example...\n",
    "        Args:\n",
    "            X: Training data matrix of dim num_train_samples * num_feat.\n",
    "            y: Training label matrix of dim num_train_samples * num_labels.\n",
    "        Both inputs are numpy arrays.\n",
    "        For classification, labels could be either numbers 0, 1, ... c-1 for c classe\n",
    "        or one-hot encoded vector of zeros, with a 1 at the kth position for class k.\n",
    "        The AutoML format support on-hot encoding, which also works for multi-labels problems.\n",
    "        Use data_converter.convert_to_num() to convert to the category number format.\n",
    "        For regression, labels are continuous values.\n",
    "        '''\n",
    "        self.num_train_samples = X.shape[0]\n",
    "        if X.ndim>1: self.num_feat = X.shape[1]\n",
    "        print(\"FIT: dim(X)= [{:d}, {:d}]\".format(self.num_train_samples, self.num_feat))\n",
    "        num_train_samples = y.shape[0]\n",
    "        if y.ndim>1: self.num_labels = y.shape[1]\n",
    "        print(\"FIT: dim(y)= [{:d}, {:d}]\".format(num_train_samples, self.num_labels))\n",
    "        if (self.num_train_samples != num_train_samples):\n",
    "            print(\"ARRGH: number of samples in X and y do not match!\")\n",
    "        self.is_trained=True\n",
    "\n",
    "    def predict(self, X):\n",
    "        '''\n",
    "        This function should provide predictions of labels on (test) data.\n",
    "        Here we just return zeros...\n",
    "        Make sure that the predicted values are in the correct format for the scoring\n",
    "        metric. For example, binary classification problems often expect predictions\n",
    "        in the form of a discriminant value (if the area under the ROC curve it the metric)\n",
    "        rather that predictions of the class labels themselves. For multi-class or multi-labels\n",
    "        problems, class probabilities are often expected if the metric is cross-entropy.\n",
    "        Scikit-learn also has a function predict-proba, we do not require it.\n",
    "        The function predict eventually can return probabilities.\n",
    "        '''\n",
    "        num_test_samples = X.shape[0]\n",
    "        if X.ndim>1: num_feat = X.shape[1]\n",
    "        print(\"PREDICT: dim(X)= [{:d}, {:d}]\".format(num_test_samples, num_feat))\n",
    "        if (self.num_feat != num_feat):\n",
    "            print(\"ARRGH: number of features in X does not match training data!\")\n",
    "        print(\"PREDICT: dim(y)= [{:d}, {:d}]\".format(num_test_samples, self.num_labels))\n",
    "        y = np.zeros([num_test_samples, self.num_labels])\n",
    "        # If you uncomment the next line, you get pretty good results for the Iris data :-)\n",
    "        #y = np.round(X[:,3])\n",
    "        return y\n",
    "\n",
    "    def save(self, path=\"./\"):\n",
    "        pickle.dump(self, open(path + '_model.pickle', \"wb\"))\n",
    "\n",
    "    def load(self, path=\"./\"):\n",
    "        modelfile = path + '_model.pickle'\n",
    "        if isfile(modelfile):\n",
    "            with open(modelfile, 'rb') as f:\n",
    "                self = pickle.load(f)\n",
    "            print(\"Model reloaded from: \" + modelfile)\n",
    "        return self\n",
    " "
   ]
  },
  {
   "cell_type": "markdown",
   "metadata": {},
   "source": [
    "<div style=\"background:#FFFFAA\">\n",
    "an instance of the model (run the constructor) and attempt to reload a previously saved version from `sample_code_submission/`:\n",
    "    \n",
    "</div>"
   ]
  },
  {
   "cell_type": "code",
   "execution_count": 15,
   "metadata": {},
   "outputs": [
    {
     "name": "stdout",
     "output_type": "stream",
     "text": [
      "Model reloaded from: sample_code_submission/Mortality_model.pickle\n",
      "True\n"
     ]
    }
   ],
   "source": [
    "M = model()\n",
    "trained_model_name = model_dir + data_name\n",
    "# Uncomment the next line to re-load an already trained model\n",
    "M = M.load(trained_model_name)    \n",
    "print(M.is_trained)"
   ]
  },
  {
   "cell_type": "markdown",
   "metadata": {},
   "source": [
    "<div style=\"background:#FFFFAA\">\n",
    "    Train the model (unless you reloaded a trained model) and make predictions. \n",
    "</div>"
   ]
  },
  {
   "cell_type": "code",
   "execution_count": 16,
   "metadata": {},
   "outputs": [
    {
     "name": "stdout",
     "output_type": "stream",
     "text": [
      "PREDICT: dim(X)= [19297, 11]\n",
      "PREDICT: dim(y)= [19297, 1]\n",
      "PREDICT: dim(X)= [2413, 11]\n",
      "PREDICT: dim(y)= [2413, 1]\n",
      "PREDICT: dim(X)= [2412, 11]\n",
      "PREDICT: dim(y)= [2412, 1]\n"
     ]
    }
   ],
   "source": [
    "X_train = D.data['X_train']\n",
    "Y_train = D.data['Y_train']\n",
    "if not(M.is_trained):\n",
    "    M.fit(X_train, Y_train)                     \n",
    "\n",
    "Y_hat_train = M.predict(D.data['X_train']) # Optional, not really needed to test on taining examples\n",
    "Y_hat_valid = M.predict(D.data['X_valid'])\n",
    "Y_hat_test = M.predict(D.data['X_test'])"
   ]
  },
  {
   "cell_type": "markdown",
   "metadata": {},
   "source": [
    "<div style=\"background:#FFFFAA\">\n",
    "    <b> Save the trained model </b> (will be ready to reload next time around) and save the prediction results. IMPORTANT: if you save the trained model, it will be bundled with your sample code submission. Therefore your model will NOT be retrained on the challenge platform. Remove the pickle from the submission if you want the model to be retrained on the platform.\n",
    "</div>"
   ]
  },
  {
   "cell_type": "code",
   "execution_count": 17,
   "metadata": {},
   "outputs": [
    {
     "name": "stdout",
     "output_type": "stream",
     "text": [
      "sample_result_submission/Mortality_test.predict\r\n",
      "sample_result_submission/Mortality_train.predict\r\n",
      "sample_result_submission/Mortality_valid.predict\r\n"
     ]
    }
   ],
   "source": [
    "M.save(trained_model_name)                 \n",
    "result_name = result_dir + data_name\n",
    "from data_io import write\n",
    "write(result_name + '_train.predict', Y_hat_train)\n",
    "write(result_name + '_valid.predict', Y_hat_valid)\n",
    "write(result_name + '_test.predict', Y_hat_test)\n",
    "!ls $result_name*"
   ]
  },
  {
   "cell_type": "markdown",
   "metadata": {},
   "source": [
    "<div style=\"background:#FFFFAA\">\n",
    "    <h2>Scoring the results</h2>\n",
    "    <h3>Load the challenge metric</h3>\n",
    "    <p>\n",
    "<b>The metric chosen for your challenge</b> is identified in the \"metric.txt\" file found in the `scoring_function/` directory. The function \"get_metric\" searches first for a metric having that name in my_metric.py, then in libscores.py, then in sklearn.metric.\n",
    "    </div>"
   ]
  },
  {
   "cell_type": "code",
   "execution_count": 18,
   "metadata": {},
   "outputs": [
    {
     "name": "stdout",
     "output_type": "stream",
     "text": [
      "Using scoring metric: mse_metric\n"
     ]
    }
   ],
   "source": [
    "from libscores import get_metric\n",
    "metric_name, scoring_function = get_metric()\n",
    "print('Using scoring metric:', metric_name)\n",
    "# Uncomment the next line to display the code of the scoring metric\n"
   ]
  },
  {
   "cell_type": "code",
   "execution_count": 19,
   "metadata": {},
   "outputs": [
    {
     "name": "stdout",
     "output_type": "stream",
     "text": [
      "/Users/nour/Desktop/AIC/mini_projet/23/projet_AIC_Survival\n",
      "['sample_data/Mortality_test.solution', 'sample_data/Mortality_train.solution', 'sample_data/Mortality_valid.solution']\n",
      "======= Set 1 (Mortality_test): mse_metric(set1_score)=ERROR =======\n",
      "======= Set 2 (Mortality_train): mse_metric(set2_score)=ERROR =======\n",
      "======= Set 3 (Mortality_valid): mse_metric(set3_score)=ERROR =======\n"
     ]
    }
   ],
   "source": [
    "from sys import argv\n",
    "import libscores\n",
    "import my_metric\n",
    "import yaml\n",
    "from libscores import *\n",
    "import os\n",
    "\n",
    "solution_dir = 'sample_data'\n",
    "\n",
    "# Debug flag 0: no debug, 1: show all scores, 2: also show version amd listing of dir\n",
    "debug_mode = 0\n",
    "\n",
    "# Constant used for a missing score\n",
    "missing_score = -0.999999\n",
    "\n",
    "# Version number\n",
    "scoring_version = 1.0\n",
    "\n",
    "# Create the output directory, if it does not already exist and open output files\n",
    "mkdir(score_dir)\n",
    "print(os.getcwd())\n",
    "score_file = open(os.getcwd() + '/scores.txt', 'w')\n",
    "html_file = open(os.getcwd() + '/scores.html', 'w')\n",
    "\n",
    "\n",
    "# Get all the solution files from the solution directory\n",
    "solution_names = sorted(ls(os.path.join(solution_dir, '*.solution')))\n",
    "print(solution_names)\n",
    "\n",
    "# Loop over files in solution directory and search for predictions with extension .predict having the same basename\n",
    "for i, solution_file in enumerate(solution_names):\n",
    "    set_num = i + 1  # 1-indexed\n",
    "    score_name = 'set%s_score' % set_num\n",
    "\n",
    "    # Extract the dataset name from the file name\n",
    "    basename = solution_file[-solution_file[::-1].index(filesep):-solution_file[::-1].index('.') - 1]\n",
    "\n",
    "    try:\n",
    "        # Get the last prediction from the res subdirectory (must end with '.predict')\n",
    "        predict_file = ls(os.path.join(prediction_dir, basename + '*.predict'))[-1]\n",
    "        if (predict_file == []): raise IOError('Missing prediction file {}'.format(basename))\n",
    "        predict_name = predict_file[-predict_file[::-1].index(filesep):-predict_file[::-1].index('.') - 1]\n",
    "        # Read the solution and prediction values into numpy arrays\n",
    "        solution = read_array(solution_file)\n",
    "        prediction = read_array(predict_file)\n",
    "        if (solution.shape != prediction.shape): \n",
    "            solution = convert_to_num(solution) \n",
    "        if (solution.shape != prediction.shape): \t\n",
    "            raise ValueError(\"Prediction shape={} instead of Solution shape={}\".format(prediction.shape, solution.shape))\n",
    "\n",
    "        try:\n",
    "            # Compute the score prescribed by the metric file \n",
    "            score = scoring_function(solution, prediction)\n",
    "            print(\n",
    "                \"======= Set %d\" % set_num + \" (\" + predict_name.capitalize() + \"): \" + metric_name + \"(\" + score_name + \")=%0.12f =======\" % score)\n",
    "            html_file.write(\n",
    "                \"<pre>======= Set %d\" % set_num + \" (\" + predict_name.capitalize() + \"): \" + metric_name + \"(\" + score_name + \")=%0.12f =======\\n\" % score)\n",
    "        except:\n",
    "            raise Exception('Error in calculation of the specific score of the task')\n",
    "\n",
    "        if debug_mode > 0:\n",
    "            scores = compute_all_scores(solution, prediction)\n",
    "            write_scores(html_file, scores)\n",
    "\n",
    "    except Exception as inst:\n",
    "        score = missing_score\n",
    "        print(\n",
    "            \"======= Set %d\" % set_num + \" (\" + basename.capitalize() + \"): \" + metric_name + \"(\" + score_name + \")=ERROR =======\")\n",
    "        html_file.write(\n",
    "            \"======= Set %d\" % set_num + \" (\" + basename.capitalize() + \"): \" + metric_name + \"(\" + score_name + \")=ERROR =======\\n\")\n",
    "        print\n",
    "        inst\n",
    "\n",
    "    # Write score corresponding to selected task and metric to the output file\n",
    "    score_file.write(score_name + \": %0.12f\\n\" % score)\n",
    "\n",
    "# End loop for solution_file in solution_names\n",
    "\n",
    "# Read the execution time and add it to the scores:\n",
    "try:\n",
    "    metadata = yaml.load(open(os.path.join(input_dir, 'res', 'metadata'), 'r'))\n",
    "    score_file.write(\"Duration: %0.6f\\n\" % metadata['elapsedTime'])\n",
    "except:\n",
    "    score_file.write(\"Duration: 0\\n\")\n",
    "\n",
    "    html_file.close()\n",
    "score_file.close()\n",
    "\n",
    "# Lots of debug stuff\n",
    "if debug_mode > 1:\n",
    "    swrite('\\n*** SCORING PROGRAM: PLATFORM SPECIFICATIONS ***\\n\\n')\n",
    "    show_platform()\n",
    "    show_io(prediction_dir, score_dir)\n",
    "    show_version(scoring_version)\n"
   ]
  },
  {
   "cell_type": "markdown",
   "metadata": {},
   "source": [
    "<div style=\"background:#FFFFAA\">\n",
    "    <h3> Training performance </h3>\n",
    "    <p>\n",
    "The participants normally posess target values (labels) only for training examples (except for the sample data). We compute with the `example` metric the training score, which should be zero for perfect predictions.\n",
    "        </div>"
   ]
  },
  {
   "cell_type": "code",
   "execution_count": 20,
   "metadata": {},
   "outputs": [
    {
     "name": "stdout",
     "output_type": "stream",
     "text": [
      "Training score for the mse_metric metric = 9315.7576\n",
      "Ideal score for the mse_metric metric = 0.0000\n"
     ]
    }
   ],
   "source": [
    "print('Training score for the', metric_name, 'metric = %5.4f' % scoring_function(Y_train, Y_hat_train))\n",
    "print('Ideal score for the', metric_name, 'metric = %5.4f' % scoring_function(Y_train, Y_train))"
   ]
  },
  {
   "cell_type": "markdown",
   "metadata": {},
   "source": [
    "You can add here other scores and result visualization."
   ]
  },
  {
   "cell_type": "code",
   "execution_count": 21,
   "metadata": {},
   "outputs": [
    {
     "data": {
      "text/plain": [
       "array([[  0,   0,   0, ...,   0,   0,   0],\n",
       "       [  4,   0,   0, ...,   0,   0,   0],\n",
       "       [ 15,   0,   0, ...,   0,   0,   0],\n",
       "       ..., \n",
       "       [140,   0,   0, ...,   0,   0,   0],\n",
       "       [154,   0,   0, ...,   0,   0,   0],\n",
       "       [ 64,   0,   0, ...,   0,   0,   0]])"
      ]
     },
     "execution_count": 21,
     "metadata": {},
     "output_type": "execute_result"
    }
   ],
   "source": [
    "from sklearn.metrics import confusion_matrix\n",
    "confusion_matrix(Y_train, Y_hat_train)"
   ]
  },
  {
   "cell_type": "markdown",
   "metadata": {},
   "source": [
    "<div style=\"background:#FFFFAA\">\n",
    "    <h3>Cross-validation performance</h3>\n",
    "    <p>\n",
    "The participants do not have access to the labels Y_valid and Y_test to self-assess their validation and test performances. But training performance is not a good prediction of validation or test performance. Using cross-validation, the training data is split into multiple training/test folds, which allows participants to self-assess their model during development. The average CV result and 95% confidence interval is displayed.\n",
    "   </div>"
   ]
  },
  {
   "cell_type": "code",
   "execution_count": 22,
   "metadata": {},
   "outputs": [
    {
     "name": "stdout",
     "output_type": "stream",
     "text": [
      "FIT: dim(X)= [15437, 11]\n",
      "FIT: dim(y)= [15437, 1]\n",
      "PREDICT: dim(X)= [3860, 11]\n",
      "PREDICT: dim(y)= [3860, 1]\n",
      "FIT: dim(X)= [15437, 11]\n",
      "FIT: dim(y)= [15437, 1]\n",
      "PREDICT: dim(X)= [3860, 11]\n",
      "PREDICT: dim(y)= [3860, 1]\n",
      "FIT: dim(X)= [15438, 11]\n",
      "FIT: dim(y)= [15438, 1]\n",
      "PREDICT: dim(X)= [3859, 11]\n",
      "PREDICT: dim(y)= [3859, 1]\n",
      "FIT: dim(X)= [15438, 11]\n",
      "FIT: dim(y)= [15438, 1]\n",
      "PREDICT: dim(X)= [3859, 11]\n",
      "PREDICT: dim(y)= [3859, 1]\n",
      "FIT: dim(X)= [15438, 11]\n",
      "FIT: dim(y)= [15438, 1]\n",
      "PREDICT: dim(X)= [3859, 11]\n",
      "PREDICT: dim(y)= [3859, 1]\n",
      "\n",
      "CV score (95 perc. CI): 9315.77 (+/- 173.69)\n"
     ]
    }
   ],
   "source": [
    "from sklearn.metrics import make_scorer\n",
    "from sklearn.model_selection import cross_val_score\n",
    "scores = cross_val_score(M, X_train, Y_train, cv=5, scoring=make_scorer(scoring_function))\n",
    "print('\\nCV score (95 perc. CI): %0.2f (+/- %0.2f)' % (scores.mean(), scores.std() * 2))"
   ]
  },
  {
   "cell_type": "markdown",
   "metadata": {},
   "source": [
    "<div style=\"background:#FFFFAA\">\n",
    "<h1> Step 3: Making a submission </h1> \n",
    "\n",
    "<h2> Unit testing </h2> \n",
    "\n",
    "It is <b><span style=\"color:red\">important that you test your submission files before submitting them</span></b>. All you have to do to make a submission is modify the file <code>model.py</code> in the <code>sample_code_submission/</code> directory, then run this test to make sure everything works fine. This is the actual program that will be run on the server to test your submission. \n",
    "<br>\n",
    "Keep the sample code simple.\n",
    "</div>"
   ]
  },
  {
   "cell_type": "code",
   "execution_count": 23,
   "metadata": {
    "scrolled": true
   },
   "outputs": [
    {
     "name": "stdout",
     "output_type": "stream",
     "text": [
      "Could not find conda environment: python3\n",
      "You can list all discoverable environments with `conda info --envs`.\n",
      "\n",
      "Using input_dir: /Users/nour/Desktop/AIC/mini_projet/23/projet_AIC_Survival/sample_data\n",
      "Using output_dir: /Users/nour/Desktop/AIC/mini_projet/23/projet_AIC_Survival/sample_result_submission\n",
      "Using program_dir: /Users/nour/Desktop/AIC/mini_projet/23/projet_AIC_Survival/ingestion_program\n",
      "Using submission_dir: /Users/nour/Desktop/AIC/mini_projet/23/projet_AIC_Survival/sample_code_submission\n",
      "\n",
      "========== Ingestion program version 6 ==========\n",
      "\n",
      "************************************************\n",
      "******** Processing dataset Mortality ********\n",
      "************************************************\n",
      "========= Reading and converting data ==========\n",
      "Info file found : /Users/nour/Desktop/AIC/mini_projet/23/projet_AIC_Survival/sample_data/Mortality_public.info\n",
      "========= Reading /Users/nour/Desktop/AIC/mini_projet/23/projet_AIC_Survival/sample_data/Mortality_feat.type\n",
      "[+] Success in  0.00 sec\n",
      "========= Reading /Users/nour/Desktop/AIC/mini_projet/23/projet_AIC_Survival/sample_data/Mortality_train.data\n",
      "Replace missing values by 0 (slow, sorry)\n",
      "[+] Success in  0.12 sec\n",
      "========= Reading /Users/nour/Desktop/AIC/mini_projet/23/projet_AIC_Survival/sample_data/Mortality_train.solution\n",
      "[+] Success in  0.03 sec\n",
      "========= Reading /Users/nour/Desktop/AIC/mini_projet/23/projet_AIC_Survival/sample_data/Mortality_valid.data\n",
      "Replace missing values by 0 (slow, sorry)\n",
      "[+] Success in  0.01 sec\n",
      "========= Reading /Users/nour/Desktop/AIC/mini_projet/23/projet_AIC_Survival/sample_data/Mortality_valid.solution\n",
      "[+] Success in  0.11 sec\n",
      "========= Reading /Users/nour/Desktop/AIC/mini_projet/23/projet_AIC_Survival/sample_data/Mortality_test.data\n",
      "Replace missing values by 0 (slow, sorry)\n",
      "[+] Success in  0.02 sec\n",
      "========= Reading /Users/nour/Desktop/AIC/mini_projet/23/projet_AIC_Survival/sample_data/Mortality_test.solution\n",
      "[+] Success in  0.01 sec\n",
      "DataManager : Mortality\n",
      "info:\n",
      "\tusage = Continuous NHANES Mortality data\n",
      "\tname = mortality\n",
      "\ttask = regression\n",
      "\ttarget_type = Numerical\n",
      "\tfeat_type = Numerical\n",
      "\tmetric = mse_metric\n",
      "\ttime_budget = 1200\n",
      "\tfeat_num = 11\n",
      "\ttarget_num = 1\n",
      "\tlabel_num = 2\n",
      "\ttrain_num = 19297\n",
      "\tvalid_num = 2171\n",
      "\ttest_num = 2412\n",
      "\thas_categorical = 0\n",
      "\thas_missing = 0\n",
      "\tis_sparse = 0\n",
      "\tformat = dense\n",
      "data:\n",
      "\tX_train = array(19297, 11)\n",
      "\tY_train = array(19297,)\n",
      "\tX_valid = array(2413, 11)\n",
      "\tY_valid = array(2413,)\n",
      "\tX_test = array(2412, 11)\n",
      "\tY_test = array(2412,)\n",
      "feat_type:\tarray(11,)\n",
      "feat_idx:\tarray(11,)\n",
      "\n",
      "[+] Size of uploaded data  56.00 bytes\n",
      "[+] Cumulated time budget (all tasks so far)  1200.00 sec\n",
      "[+] Time budget for this task 1200.00 sec\n",
      "[+] Remaining time after reading data 1199.69 sec\n",
      "======== Creating model ==========\n",
      "**********************************************************\n",
      "****** Attempting to reload model to avoid training ******\n",
      "**********************************************************\n",
      "Model reloaded from: /Users/nour/Desktop/AIC/mini_projet/23/projet_AIC_Survival/sample_code_submission/Mortality_model.pickle\n",
      "[+] Model reloaded, no need to train!\n",
      "PREDICT: dim(X)= [19297, 11]\n",
      "PREDICT: dim(y)= [19297, 1]\n",
      "PREDICT: dim(X)= [2413, 11]\n",
      "PREDICT: dim(y)= [2413, 1]\n",
      "PREDICT: dim(X)= [2412, 11]\n",
      "PREDICT: dim(y)= [2412, 1]\n",
      "[+] Prediction success, time spent so far  0.33 sec\n",
      "======== Saving results to: /Users/nour/Desktop/AIC/mini_projet/23/projet_AIC_Survival/sample_result_submission\n",
      "[+] Results saved, time spent so far  0.38 sec\n",
      "[+] End cycle, time left 1199.62 sec\n",
      "[+] Done\n",
      "[+] Overall time spent  2.32 sec ::  Overall time budget 1200.00 sec\n"
     ]
    }
   ],
   "source": [
    "!source activate python3; python $problem_dir/ingestion.py $data_dir $result_dir $problem_dir $model_dir"
   ]
  },
  {
   "cell_type": "markdown",
   "metadata": {},
   "source": [
    "<div style=\"background:#FFFFAA\">\n",
    "Also test the scoring program:\n",
    "    </div>"
   ]
  },
  {
   "cell_type": "code",
   "execution_count": 24,
   "metadata": {},
   "outputs": [
    {
     "name": "stdout",
     "output_type": "stream",
     "text": [
      "Could not find conda environment: python3\n",
      "You can list all discoverable environments with `conda info --envs`.\n",
      "\n",
      "======= Set 1 (Mortality_test): mse_metric(set1_score)=2254.239220563848 =======\n",
      "======= Set 2 (Mortality_train): mse_metric(set2_score)=0.000000000000 =======\n",
      "======= Set 3 (Mortality_valid): mse_metric(set3_score)=2268.631993369250 =======\n"
     ]
    }
   ],
   "source": [
    "scoring_output_dir = '../scoring_output_dir'\n",
    "!source activate python3; python $score_dir/score.py $data_dir $result_dir $scoring_output_dir"
   ]
  },
  {
   "cell_type": "markdown",
   "metadata": {
    "collapsed": true
   },
   "source": [
    "<div style=\"background:#FFFFAA\">\n",
    "    <h1> Preparing the submission </h1>\n",
    "\n",
    "Zip the contents of `sample_code_submission/` (without the directory), or download the challenge public_data and run the command in the previous cell, after replacing sample_data by public_data.\n",
    "Then zip the contents of `sample_result_submission/` (without the directory).\n",
    "<b><span style=\"color:red\">Do NOT zip the data with your submissions</span></b>."
   ]
  },
  {
   "cell_type": "code",
   "execution_count": 33,
   "metadata": {},
   "outputs": [
    {
     "name": "stdout",
     "output_type": "stream",
     "text": [
      "Submit one of these files:\n",
      "../sample_code_submission_18-11-21-23-08.zip\n",
      "../sample_result_submission_18-11-21-23-08.zip\n"
     ]
    }
   ],
   "source": [
    "import datetime \n",
    "from data_io import zipdir\n",
    "the_date = datetime.datetime.now().strftime(\"%y-%m-%d-%H-%M\")\n",
    "sample_code_submission = '../sample_code_submission_' + the_date + '.zip'\n",
    "sample_result_submission = '../sample_result_submission_' + the_date + '.zip'\n",
    "zipdir(sample_code_submission, model_dir)\n",
    "zipdir(sample_result_submission, result_dir)\n",
    "print(\"Submit one of these files:\\n\" + sample_code_submission + \"\\n\" + sample_result_submission)"
   ]
  },
  {
   "cell_type": "code",
   "execution_count": null,
   "metadata": {
    "collapsed": true
   },
   "outputs": [],
   "source": []
  }
 ],
 "metadata": {
  "kernelspec": {
   "display_name": "Python 3",
   "language": "python",
   "name": "python3"
  },
  "language_info": {
   "codemirror_mode": {
    "name": "ipython",
    "version": 3
   },
   "file_extension": ".py",
   "mimetype": "text/x-python",
   "name": "python",
   "nbconvert_exporter": "python",
   "pygments_lexer": "ipython3",
   "version": "3.6.3"
  }
 },
 "nbformat": 4,
 "nbformat_minor": 1
}
